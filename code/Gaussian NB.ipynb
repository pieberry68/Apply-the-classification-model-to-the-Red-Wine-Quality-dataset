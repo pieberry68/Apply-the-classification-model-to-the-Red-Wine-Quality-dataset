{
 "cells": [
  {
   "cell_type": "code",
   "execution_count": 7,
   "metadata": {},
   "outputs": [
    {
     "name": "stdout",
     "output_type": "stream",
     "text": [
      "class cua d5 la: B\n",
      "% d6 thuoc class [[0. 1.]]\n",
      "d7 thuoc class ['N']\n",
      "% d7 thuoc class [[0. 1.]]\n"
     ]
    }
   ],
   "source": [
    "from __future__ import print_function\n",
    "from sklearn.naive_bayes import GaussianNB\n",
    "import numpy as np \n",
    "\n",
    "# train data\n",
    "d1 = [2, 1, 1, 0, 0, 0, 0, 0, 0]\n",
    "d2 = [1, 1, 0, 1, 1, 0, 0, 0, 0]\n",
    "d3 = [0, 1, 0, 0, 1, 1, 0, 0, 0]\n",
    "d4 = [0, 1, 0, 0, 0, 0, 1, 1, 1]\n",
    "\n",
    "train_data = np.array([d1, d2, d3, d4])\n",
    "label = np.array(['B', 'B', 'B', 'N']) \n",
    "\n",
    "# test data\n",
    "d5 = np.array([[2, 0, 0, 1, 0, 0, 0, 1, 0]])\n",
    "d6 = np.array([[0, 1, 0, 0, 0, 0, 0, 1, 1]])\n",
    "d7 = np.array([[0, 0, 1, 0, 0, 0, 2, 1, 0]])\n",
    "\n",
    "## call GaussianNB\n",
    "model = GaussianNB()\n",
    "# training \n",
    "model.fit(train_data, label)\n",
    "\n",
    "# test\n",
    "print('class cua d5 la:', str(model.predict(d5)[0]))\n",
    "print('% d6 thuoc class', model.predict_proba(d6))\n",
    "predicted= model.predict(d7)\n",
    "print (\"d7 thuoc class\", predicted)\n",
    "print ('% d7 thuoc class', model.predict_proba(d7))"
   ]
  },
  {
   "cell_type": "code",
   "execution_count": null,
   "metadata": {},
   "outputs": [],
   "source": []
  }
 ],
 "metadata": {
  "kernelspec": {
   "display_name": "Python 3",
   "language": "python",
   "name": "python3"
  },
  "language_info": {
   "codemirror_mode": {
    "name": "ipython",
    "version": 3
   },
   "file_extension": ".py",
   "mimetype": "text/x-python",
   "name": "python",
   "nbconvert_exporter": "python",
   "pygments_lexer": "ipython3",
   "version": "3.7.1"
  }
 },
 "nbformat": 4,
 "nbformat_minor": 2
}
